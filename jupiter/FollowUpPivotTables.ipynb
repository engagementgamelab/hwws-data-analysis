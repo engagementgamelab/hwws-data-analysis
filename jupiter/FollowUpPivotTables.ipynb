{
 "cells": [
  {
   "cell_type": "markdown",
   "metadata": {},
   "source": [
    "# UNICEF Ghana: Handwashing with Ananse\n",
    "\n",
    "Taking a look at time distributions of the video data\n",
    "\n",
    "[Project Homepage](https://www.unicef.org/ghana/communication_10253.html)\n",
    "\n",
    "[GitHub Repository](https://github.com/austinmw/ec520_ghana_handwashing)\n",
    "\n",
    "[nbviewer](http://nbviewer.jupyter.org/github/austinmw/ec520_ghana_handwashing/blob/master/Timestamp%20Summary%20Statistics.ipynb)\n"
   ]
  },
  {
   "cell_type": "markdown",
   "metadata": {},
   "source": [
    "** Tested for Mac, probably works with other Unix-based systems as well**"
   ]
  },
  {
   "cell_type": "markdown",
   "metadata": {},
   "source": [
    "First I performed some very basic cleaning of the directories:\n",
    "- Tried to standardize the spacing in file names\n",
    "- Fixed outlier errors in naming conventions for some entries\n",
    "- Added some empty directories where missing (Video 2) to make directory path error checking more straight forward"
   ]
  },
  {
   "cell_type": "markdown",
   "metadata": {},
   "source": [
    "## 1: Import Libraries and Data"
   ]
  },
  {
   "cell_type": "code",
   "execution_count": 1,
   "metadata": {
    "collapsed": false
   },
   "outputs": [
    {
     "name": "stdout",
     "output_type": "stream",
     "text": [
      "1.11.3\n",
      "0.19.2\n",
      "2.0.0\n",
      "2.2.1\n",
      "0.7.1\n"
     ]
    },
    {
     "data": {
      "text/plain": [
       "['.DS_Store',\n",
       " 'Agona Nkran Islamic',\n",
       " 'Akakom DA Primary',\n",
       " 'Akropong Presby Primary',\n",
       " 'Akwaboso Methodist Primary',\n",
       " 'Ampampatia',\n",
       " 'Asafo Presby Primary',\n",
       " 'Asamama Presby Primary',\n",
       " 'Awutu AME Zion',\n",
       " 'Ayinam Presby Primary',\n",
       " 'Gyesikrom AEDA Primary',\n",
       " 'Itifaqiya Islamic Primary',\n",
       " 'Kwabeng Anglican Primary',\n",
       " 'Mankrong Methodist Primary',\n",
       " 'Ninta Methodist',\n",
       " 'Nsabaa AME Zion',\n",
       " 'Nsabaa Methodist',\n",
       " 'Nuriya DA Primary Bawjiase',\n",
       " 'Presby Primary Bawjiase',\n",
       " 'Rev. Erickson',\n",
       " 'St. Killian Catholic Primary']"
      ]
     },
     "execution_count": 1,
     "metadata": {},
     "output_type": "execute_result"
    }
   ],
   "source": [
    "# imports\n",
    "import numpy as np\n",
    "print np.__version__\n",
    "import pandas as pd\n",
    "print pd.__version__\n",
    "import matplotlib as mpl\n",
    "print mpl.__version__\n",
    "import matplotlib.pyplot as plt\n",
    "#print plt.__version__\n",
    "import re\n",
    "print re.__version__\n",
    "import seaborn as sns\n",
    "print sns.__version__\n",
    "import os\n",
    "import os.path, time\n",
    "import sys\n",
    "%matplotlib inline\n",
    "#from IPython.core.interactiveshell import InteractiveShell\n",
    "#InteractiveShell.ast_node_interactivity = \"all\"\n",
    "\n",
    "os.listdir('/Volumes/GhanaStudyData/FollowUpVideoForAnalysis/')\n"
   ]
  },
  {
   "cell_type": "code",
   "execution_count": 2,
   "metadata": {
    "collapsed": false
   },
   "outputs": [
    {
     "name": "stdout",
     "output_type": "stream",
     "text": [
      "['Agona Nkran Islamic', 'Akakom DA Primary', 'Akropong Presby Primary', 'Akwaboso Methodist Primary', 'Ampampatia', 'Asafo Presby Primary', 'Asamama Presby Primary', 'Awutu AME Zion', 'Ayinam Presby Primary', 'Gyesikrom AEDA Primary', 'Itifaqiya Islamic Primary', 'Kwabeng Anglican Primary', 'Mankrong Methodist Primary', 'Ninta Methodist', 'Nsabaa AME Zion', 'Nsabaa Methodist', 'Nuriya DA Primary Bawjiase', 'Presby Primary Bawjiase', 'Rev. Erickson', 'St. Killian Catholic Primary']\n",
      "20\n"
     ]
    }
   ],
   "source": [
    "# Toggle 1st/2nd hard drive\n",
    "\n",
    "hdpath = '/Volumes/GhanaStudyData/FollowUpVideoForAnalysis/' \n",
    "    \n",
    "# list schools\n",
    "schools = [f for f in os.listdir(hdpath) if f[0]!='.']\n",
    "print(schools)\n",
    "numSchools = len(schools)\n",
    "print (numSchools)\n",
    "#print(\"School Names:\",*schools, sep='\\n')"
   ]
  },
  {
   "cell_type": "markdown",
   "metadata": {},
   "source": [
    "## 2: Extracting the Timestamps\n",
    "\n",
    "According to stackoverflow, retrieving file creation dates turns out to be platform-dependent.   \n",
    "Testing this with Mac, although it may work with other Unix-based systems.  "
   ]
  },
  {
   "cell_type": "code",
   "execution_count": 5,
   "metadata": {
    "collapsed": false,
    "scrolled": true
   },
   "outputs": [
    {
     "name": "stdout",
     "output_type": "stream",
     "text": [
      "['/Volumes/GhanaStudyData/FollowUpVideosForAnalysis/Agona Nkran Islamic/All/', '/Volumes/GhanaStudyData/FollowUpVideosForAnalysis/Akakom DA Primary/All/', '/Volumes/GhanaStudyData/FollowUpVideosForAnalysis/Akropong Presby Primary/All/', '/Volumes/GhanaStudyData/FollowUpVideosForAnalysis/Akwaboso Methodist Primary/All/', '/Volumes/GhanaStudyData/FollowUpVideosForAnalysis/Ampampatia/All/', '/Volumes/GhanaStudyData/FollowUpVideosForAnalysis/Asafo Presby Primary/All/', '/Volumes/GhanaStudyData/FollowUpVideosForAnalysis/Asamama Presby Primary/All/', '/Volumes/GhanaStudyData/FollowUpVideosForAnalysis/Awutu AME Zion/All/', '/Volumes/GhanaStudyData/FollowUpVideosForAnalysis/Ayinam Presby Primary/All/', '/Volumes/GhanaStudyData/FollowUpVideosForAnalysis/Gyesikrom AEDA Primary/All/', '/Volumes/GhanaStudyData/FollowUpVideosForAnalysis/Itifaqiya Islamic Primary/All/', '/Volumes/GhanaStudyData/FollowUpVideosForAnalysis/Kwabeng Anglican Primary/All/', '/Volumes/GhanaStudyData/FollowUpVideosForAnalysis/Mankrong Methodist Primary/All/', '/Volumes/GhanaStudyData/FollowUpVideosForAnalysis/Ninta Methodist/All/', '/Volumes/GhanaStudyData/FollowUpVideosForAnalysis/Nsabaa AME Zion/All/', '/Volumes/GhanaStudyData/FollowUpVideosForAnalysis/Nsabaa Methodist/All/', '/Volumes/GhanaStudyData/FollowUpVideosForAnalysis/Nuriya DA Primary Bawjiase/All/', '/Volumes/GhanaStudyData/FollowUpVideosForAnalysis/Presby Primary Bawjiase/All/', '/Volumes/GhanaStudyData/FollowUpVideosForAnalysis/Rev. Erickson/All/', '/Volumes/GhanaStudyData/FollowUpVideosForAnalysis/St. Killian Catholic Primary/All/']\n",
      "(\"Number of total videos in all 'Video 1' and 'Video 2' directories: \", 10415)\n"
     ]
    }
   ],
   "source": [
    "# List of all video file paths in each school's Video/Video 1 and Video/Video 2 folders\n",
    "\n",
    "vidPaths = [hdpath+s+'/All/' for s in schools]\n",
    "\n",
    "\n",
    "print (vidPaths)\n",
    "#vidPaths = [hdpath+s for s in schools] \n",
    "\n",
    "#if not hd2:\n",
    "#  vidPaths = [hdpath+s+'/Baseline/Video/Video 1/' for s in schools] \n",
    "#  vidPaths += [hdpath+s+'/Baseline/Video/Video 2/' for s in schools]\n",
    "#else:\n",
    " #   vidPaths = [hdpath+s+'/Video 1/' for s in schools]\n",
    "#  vidPaths += [hdpath+s+'/Video 2/' for s in schools]\n",
    "    \n",
    "\n",
    "# convert school names to proper linux directory paths (might need later)\n",
    "# escapedTopVidDirs = [hdpath+s.replace(' ', r'\\ ')+'/Baseline/Video/' for s in schools]\n",
    "# escaped list of paths for 'Video 1' and 'Video 2' (also may need later)\n",
    "# escapedBothVidDirs = [e+'Video\\\\ 1/' for e in escapedTopVidDirs] + [e+'Video\\\\ 2/' for e in escapedTopVidDirs]\n",
    "\n",
    "# Create large list of full file paths for each video in each school's Video 1 and Video 2 directories\n",
    "vidFullPaths = [f+v for f in vidPaths for v in os.listdir(f) if v[0]!='.']\n",
    "\n",
    "\n",
    "\n",
    "vidNum = len(vidFullPaths)\n",
    "print(\"Number of total videos in all 'Video 1' and 'Video 2' directories: \", vidNum)\n",
    "\n",
    "# list(each school) of lists(each vid path) for each 'Video 1' and 'Video 2' dir\n",
    "v1FullPaths = [[s+v for v in os.listdir(s) if v[0]!='.'] for s in vidPaths[:int(len(vidPaths)/2)]]\n",
    "v2FullPaths = [[s+v for v in os.listdir(s) if v[0]!='.'] for s in vidPaths[int(len(vidPaths)/2):]]\n",
    "# aggregated above \n",
    "bothFullPaths = [v1FullPaths[i]+v2FullPaths[i] for i in range(len(v1FullPaths))] # 16730 total (hd1)"
   ]
  },
  {
   "cell_type": "code",
   "execution_count": 6,
   "metadata": {
    "collapsed": false
   },
   "outputs": [
    {
     "name": "stdout",
     "output_type": "stream",
     "text": [
      "Example of full file paths and creation dates for the first five videos:\n",
      "\n",
      "('path:\\t    /Volumes/GhanaStudyData/FollowUpVideosForAnalysis/Agona Nkran Islamic/All/07-35-22_May_24_2017--Agona_Nkran_Islamic.avi', '\\ntimestamp: ', ['Wed', 'May', '24', '07:35:22', '2017'], '\\n')\n",
      "('path:\\t    /Volumes/GhanaStudyData/FollowUpVideosForAnalysis/Agona Nkran Islamic/All/07-37-38_May_24_2017--Agona_Nkran_Islamic.avi', '\\ntimestamp: ', ['Wed', 'May', '24', '07:37:38', '2017'], '\\n')\n",
      "('path:\\t    /Volumes/GhanaStudyData/FollowUpVideosForAnalysis/Agona Nkran Islamic/All/07-47-14_May_24_2017--Agona_Nkran_Islamic.avi', '\\ntimestamp: ', ['Wed', 'May', '24', '07:47:14', '2017'], '\\n')\n"
     ]
    }
   ],
   "source": [
    "# list of lists with creation times for all videos in all 'Video 1' and 'Video 2' directories\n",
    "timestamps = [time.ctime(os.path.getmtime(f)).replace('  ', ' ').split(' ') for f in vidFullPaths]\n",
    "\n",
    "# list of lists of lists: sTimestamps[school][timestamp][section of timestamp]\n",
    "sTimestamps = [[time.ctime(os.path.getmtime(v)).replace('  ', ' ').split(' ') for v in school] for school in bothFullPaths] \n",
    "\n",
    "# example of first 10 videos and corresponding timestamps\n",
    "print(\"Example of full file paths and creation dates for the first five videos:\\n\")\n",
    "for i in range(3):\n",
    "    print('path:\\t    ' + vidFullPaths[i],'\\ntimestamp: ',timestamps[i],'\\n')"
   ]
  },
  {
   "cell_type": "markdown",
   "metadata": {},
   "source": [
    "# 2.5: backup data\n",
    "\n",
    "Backing up all HD1 paths/mtimes/filenames to .csv and .pkl files \n",
    "\n",
    "Can do statistics on this dataframe in new notebook rather than requiring HD   \n",
    "(all code in this notebook still requires the HD, I wrote it before I did this backup step)"
   ]
  },
  {
   "cell_type": "code",
   "execution_count": 7,
   "metadata": {
    "collapsed": false
   },
   "outputs": [
    {
     "name": "stdout",
     "output_type": "stream",
     "text": [
      "                           school full date  hour  hour video count\n",
      "0             Agona Nkran Islamic    May 23  11.0                19\n",
      "1             Agona Nkran Islamic    May 23  12.0                19\n",
      "2             Agona Nkran Islamic    May 23  13.0                21\n",
      "3             Agona Nkran Islamic    May 24   7.0                15\n",
      "4             Agona Nkran Islamic    May 24   8.0                 1\n",
      "5             Agona Nkran Islamic    May 24   9.0                 3\n",
      "6             Agona Nkran Islamic    May 24  10.0                 2\n",
      "7             Agona Nkran Islamic    May 24  11.0                35\n",
      "8             Agona Nkran Islamic    May 24  12.0                 3\n",
      "9             Agona Nkran Islamic    May 24  13.0                 2\n",
      "10            Agona Nkran Islamic    May 25   9.0                 2\n",
      "11            Agona Nkran Islamic    May 26   8.0                 4\n",
      "12            Agona Nkran Islamic    May 26   9.0                 8\n",
      "13            Agona Nkran Islamic    May 26  10.0                16\n",
      "14            Agona Nkran Islamic    May 26  11.0                10\n",
      "15            Agona Nkran Islamic    May 26  12.0                 6\n",
      "16            Agona Nkran Islamic    May 28  13.0                 1\n",
      "17            Agona Nkran Islamic    May 29   9.0                11\n",
      "18            Agona Nkran Islamic    May 29  10.0                15\n",
      "19            Agona Nkran Islamic    May 29  11.0                 7\n",
      "20              Akakom DA Primary    May 10   7.0                 5\n",
      "21              Akakom DA Primary    May 10   8.0                 6\n",
      "22              Akakom DA Primary    May 10   9.0                 9\n",
      "23              Akakom DA Primary    May 10  10.0                24\n",
      "24              Akakom DA Primary    May 10  11.0                10\n",
      "25              Akakom DA Primary    May 10  12.0                41\n",
      "26              Akakom DA Primary    May 10  13.0                 5\n",
      "27              Akakom DA Primary    May 11   7.0                 2\n",
      "28              Akakom DA Primary    May 11   8.0                26\n",
      "29              Akakom DA Primary    May 11   9.0                21\n",
      "..                            ...       ...   ...               ...\n",
      "966  St. Killian Catholic Primary    May 18   9.0                14\n",
      "967  St. Killian Catholic Primary    May 18  10.0                 9\n",
      "968  St. Killian Catholic Primary    May 18  11.0                 8\n",
      "969  St. Killian Catholic Primary    May 18  12.0                15\n",
      "970  St. Killian Catholic Primary    May 18  13.0                11\n",
      "971  St. Killian Catholic Primary    May 18  14.0                10\n",
      "972  St. Killian Catholic Primary    May 19   8.0                 2\n",
      "973  St. Killian Catholic Primary    May 19   9.0                15\n",
      "974  St. Killian Catholic Primary    May 19  10.0                29\n",
      "975  St. Killian Catholic Primary    May 19  11.0                 4\n",
      "976  St. Killian Catholic Primary    May 19  12.0                10\n",
      "977  St. Killian Catholic Primary    May 19  13.0                10\n",
      "978  St. Killian Catholic Primary    May 19  14.0                 8\n",
      "979  St. Killian Catholic Primary    May 22   8.0                 2\n",
      "980  St. Killian Catholic Primary    May 22   9.0                 4\n",
      "981  St. Killian Catholic Primary    May 22  10.0                17\n",
      "982  St. Killian Catholic Primary    May 22  11.0                 9\n",
      "983  St. Killian Catholic Primary    May 22  12.0                11\n",
      "984  St. Killian Catholic Primary    May 22  13.0                 8\n",
      "985  St. Killian Catholic Primary    May 22  14.0                16\n",
      "986  St. Killian Catholic Primary    May 22  16.0                 1\n",
      "987  St. Killian Catholic Primary    May 23   9.0                18\n",
      "988  St. Killian Catholic Primary    May 23  10.0                13\n",
      "989  St. Killian Catholic Primary    May 23  11.0                12\n",
      "990  St. Killian Catholic Primary    May 23  12.0                38\n",
      "991  St. Killian Catholic Primary    May 23  13.0                25\n",
      "992  St. Killian Catholic Primary    May 23  14.0                 6\n",
      "993  St. Killian Catholic Primary    May 23  15.0                 1\n",
      "994  St. Killian Catholic Primary    May 24   9.0                 8\n",
      "995  St. Killian Catholic Primary    May 24  10.0                 3\n",
      "\n",
      "[996 rows x 4 columns]\n",
      "(10415, 14)\n"
     ]
    },
    {
     "data": {
      "text/html": [
       "<div>\n",
       "<table border=\"1\" class=\"dataframe\">\n",
       "  <thead>\n",
       "    <tr style=\"text-align: right;\">\n",
       "      <th></th>\n",
       "      <th>hard drive</th>\n",
       "      <th>school</th>\n",
       "      <th>video folder</th>\n",
       "      <th>file name</th>\n",
       "      <th>day</th>\n",
       "      <th>month</th>\n",
       "      <th>date</th>\n",
       "      <th>time</th>\n",
       "      <th>year</th>\n",
       "      <th>floatTime</th>\n",
       "      <th>hour</th>\n",
       "      <th>hour video count</th>\n",
       "      <th>full date</th>\n",
       "      <th>full path</th>\n",
       "    </tr>\n",
       "  </thead>\n",
       "  <tbody>\n",
       "    <tr>\n",
       "      <th>0</th>\n",
       "      <td>FollowUpVideosForAnalysis</td>\n",
       "      <td>Agona Nkran Islamic</td>\n",
       "      <td>All</td>\n",
       "      <td>07-35-22_May_24_2017--Agona_Nkran_Islamic.avi</td>\n",
       "      <td>Wed</td>\n",
       "      <td>May</td>\n",
       "      <td>24</td>\n",
       "      <td>07:35:22</td>\n",
       "      <td>2017</td>\n",
       "      <td>7.5836</td>\n",
       "      <td>7.0</td>\n",
       "      <td>1</td>\n",
       "      <td>May 24</td>\n",
       "      <td>/Volumes/GhanaStudyData/FollowUpVideosForAnaly...</td>\n",
       "    </tr>\n",
       "    <tr>\n",
       "      <th>1</th>\n",
       "      <td>FollowUpVideosForAnalysis</td>\n",
       "      <td>Agona Nkran Islamic</td>\n",
       "      <td>All</td>\n",
       "      <td>07-37-38_May_24_2017--Agona_Nkran_Islamic.avi</td>\n",
       "      <td>Wed</td>\n",
       "      <td>May</td>\n",
       "      <td>24</td>\n",
       "      <td>07:37:38</td>\n",
       "      <td>2017</td>\n",
       "      <td>7.6163</td>\n",
       "      <td>7.0</td>\n",
       "      <td>1</td>\n",
       "      <td>May 24</td>\n",
       "      <td>/Volumes/GhanaStudyData/FollowUpVideosForAnaly...</td>\n",
       "    </tr>\n",
       "    <tr>\n",
       "      <th>2</th>\n",
       "      <td>FollowUpVideosForAnalysis</td>\n",
       "      <td>Agona Nkran Islamic</td>\n",
       "      <td>All</td>\n",
       "      <td>07-47-14_May_24_2017--Agona_Nkran_Islamic.avi</td>\n",
       "      <td>Wed</td>\n",
       "      <td>May</td>\n",
       "      <td>24</td>\n",
       "      <td>07:47:14</td>\n",
       "      <td>2017</td>\n",
       "      <td>7.7823</td>\n",
       "      <td>7.0</td>\n",
       "      <td>1</td>\n",
       "      <td>May 24</td>\n",
       "      <td>/Volumes/GhanaStudyData/FollowUpVideosForAnaly...</td>\n",
       "    </tr>\n",
       "    <tr>\n",
       "      <th>3</th>\n",
       "      <td>FollowUpVideosForAnalysis</td>\n",
       "      <td>Agona Nkran Islamic</td>\n",
       "      <td>All</td>\n",
       "      <td>07-47-54_May_24_2017--Agona_Nkran_Islamic.avi</td>\n",
       "      <td>Wed</td>\n",
       "      <td>May</td>\n",
       "      <td>24</td>\n",
       "      <td>07:47:54</td>\n",
       "      <td>2017</td>\n",
       "      <td>7.7890</td>\n",
       "      <td>7.0</td>\n",
       "      <td>1</td>\n",
       "      <td>May 24</td>\n",
       "      <td>/Volumes/GhanaStudyData/FollowUpVideosForAnaly...</td>\n",
       "    </tr>\n",
       "    <tr>\n",
       "      <th>4</th>\n",
       "      <td>FollowUpVideosForAnalysis</td>\n",
       "      <td>Agona Nkran Islamic</td>\n",
       "      <td>All</td>\n",
       "      <td>07-48-30_May_24_2017--Agona_Nkran_Islamic.avi</td>\n",
       "      <td>Wed</td>\n",
       "      <td>May</td>\n",
       "      <td>24</td>\n",
       "      <td>07:48:30</td>\n",
       "      <td>2017</td>\n",
       "      <td>7.8050</td>\n",
       "      <td>7.0</td>\n",
       "      <td>1</td>\n",
       "      <td>May 24</td>\n",
       "      <td>/Volumes/GhanaStudyData/FollowUpVideosForAnaly...</td>\n",
       "    </tr>\n",
       "  </tbody>\n",
       "</table>\n",
       "</div>"
      ],
      "text/plain": [
       "                  hard drive               school video folder  \\\n",
       "0  FollowUpVideosForAnalysis  Agona Nkran Islamic          All   \n",
       "1  FollowUpVideosForAnalysis  Agona Nkran Islamic          All   \n",
       "2  FollowUpVideosForAnalysis  Agona Nkran Islamic          All   \n",
       "3  FollowUpVideosForAnalysis  Agona Nkran Islamic          All   \n",
       "4  FollowUpVideosForAnalysis  Agona Nkran Islamic          All   \n",
       "\n",
       "                                       file name  day month date      time  \\\n",
       "0  07-35-22_May_24_2017--Agona_Nkran_Islamic.avi  Wed   May   24  07:35:22   \n",
       "1  07-37-38_May_24_2017--Agona_Nkran_Islamic.avi  Wed   May   24  07:37:38   \n",
       "2  07-47-14_May_24_2017--Agona_Nkran_Islamic.avi  Wed   May   24  07:47:14   \n",
       "3  07-47-54_May_24_2017--Agona_Nkran_Islamic.avi  Wed   May   24  07:47:54   \n",
       "4  07-48-30_May_24_2017--Agona_Nkran_Islamic.avi  Wed   May   24  07:48:30   \n",
       "\n",
       "   year  floatTime  hour  hour video count full date  \\\n",
       "0  2017     7.5836   7.0                 1    May 24   \n",
       "1  2017     7.6163   7.0                 1    May 24   \n",
       "2  2017     7.7823   7.0                 1    May 24   \n",
       "3  2017     7.7890   7.0                 1    May 24   \n",
       "4  2017     7.8050   7.0                 1    May 24   \n",
       "\n",
       "                                           full path  \n",
       "0  /Volumes/GhanaStudyData/FollowUpVideosForAnaly...  \n",
       "1  /Volumes/GhanaStudyData/FollowUpVideosForAnaly...  \n",
       "2  /Volumes/GhanaStudyData/FollowUpVideosForAnaly...  \n",
       "3  /Volumes/GhanaStudyData/FollowUpVideosForAnaly...  \n",
       "4  /Volumes/GhanaStudyData/FollowUpVideosForAnaly...  "
      ]
     },
     "execution_count": 7,
     "metadata": {},
     "output_type": "execute_result"
    }
   ],
   "source": [
    "# Put all file info in data frame\n",
    "hdFiles = pd.DataFrame([f.split('/') for f in vidFullPaths])\n",
    "\n",
    "# check hd since they have different paths\n",
    "#if not hd2:\n",
    "#hdFiles = hdFiles[[3,4,7,8]]\n",
    "#else:\n",
    "hdFiles = hdFiles[[3,4,5,6]]\n",
    "    \n",
    "hdFiles.columns = ['hard drive','school','video folder', 'file name']\n",
    "hdFiles.head()\n",
    "timestamps = pd.DataFrame([time.ctime(os.path.getmtime(f)).replace('  ', ' ').split(' ') for f in vidFullPaths], \n",
    "                          columns=['day','month','date','time','year'])\n",
    "hdDataframe = hdFiles.join(timestamps)\n",
    "\n",
    "\n",
    "# time to float, e.g. 10:06:30 -> 10.1050\n",
    "def timetofloat(s):\n",
    "    t = s.split(':')\n",
    "    return float(t[0]+'.'+str(int(float(t[1])*100/60))+str(int(float(t[2])*100/60)))\n",
    "\n",
    "# WADE - Get just the hour so that we can see how many vids happened over an hour period\n",
    "def justthehour(s):\n",
    "    t = s.split(':')\n",
    "    return float(t[0])\n",
    "\n",
    "# WADE - Get a count of how many vids are in that hour\n",
    "#def hourvideocount(s):\n",
    "#    print s\n",
    "#    print hdDataframe['school'].shift(1)\n",
    "#    if hdDataframe.school.eq(hdDataframe.school.shift()).all(): \n",
    "#    if s in hdDataframe['school'].shift():\n",
    "#        x = 2\n",
    "#    else:\n",
    "#        x = 1\n",
    "#    return (x)\n",
    "\n",
    "\n",
    "\n",
    "# add float time column (easier for graphing)\n",
    "hdDataframe['floatTime'] = hdDataframe['time'].apply(timetofloat)\n",
    "\n",
    "#WADE - add hour to data\n",
    "hdDataframe['hour'] = hdDataframe['time'].apply(justthehour)\n",
    "\n",
    "#WADE - add hourvideocount\n",
    "#hdDataframe['hour video count'] = hdDataframe['school'].apply(hourvideocount)\n",
    "hdDataframe['hour video count'] = 1\n",
    "\n",
    "#WADE concatenate the month and date and year\n",
    "hdDataframe['full date'] = hdDataframe['month'].map(str) + ' ' + hdDataframe['date'].map(str) #+ ' ' + hdDataframe['year'].map(str)\n",
    "\n",
    "\n",
    "#WADE - test hour video count\n",
    "#hdDataframe['wade test'] = hdDataframe.school == hdDataframe.school.shift()\n",
    "\n",
    "#Wade - test Johnny\n",
    "key_columns = ['school', 'full date', 'hour']\n",
    "#newframe_columns =['video folder', 'month', 'date', 'hour','hour video count' ]\n",
    "#key_columns = ['date']\n",
    "#hdDataframe['Sum of hourly video'] = hdDataframe.groupby(key_columns)['hour video count'].sum()\n",
    "hvcDataframe = hdDataframe.groupby(key_columns,as_index=False)['hour video count'].count()\n",
    "print (hvcDataframe) \n",
    "\n",
    "hvcDataframe.to_csv('followuphourly.csv')\n",
    "#['hour video count'].sum())\n",
    "\n",
    "# add file paths column\n",
    "hdDataframe['full path'] = vidFullPaths\n",
    "\n",
    "# check size\n",
    "print(hdDataframe.shape)\n",
    "\n",
    "# save hd1 or hd2\n",
    "#if not hd2:\n",
    "    # save hd1 dataframe as .pkl file\n",
    "    #   hdDataframe.to_pickle('hd1Pickle')\n",
    "    # save hd1 dataframe as .csv file\n",
    "    #  hdDataframe.to_csv('hd1CSV')\n",
    "#else:\n",
    "    # save hd1 dataframe as .pkl file\n",
    "#hdDataframe.to_pickle('hd2Pickle')\n",
    "    # save hd1 dataframe as .csv file\n",
    "hdDataframe.to_csv('followUP.csv')\n",
    "\n",
    "# see how it looks (wont work if hd2 selected)\n",
    "hdDataframe.head()\n"
   ]
  },
  {
   "cell_type": "markdown",
   "metadata": {},
   "source": [
    "## 3: Visualizing the Data"
   ]
  },
  {
   "cell_type": "code",
   "execution_count": 8,
   "metadata": {
    "collapsed": false
   },
   "outputs": [
    {
     "name": "stdout",
     "output_type": "stream",
     "text": [
      "<pandas.io.excel._XlsxWriter object at 0x10fca5990>\n"
     ]
    }
   ],
   "source": [
    "\n",
    "datapivottable = pd.pivot_table(hvcDataframe,index=['school', 'hour' ], columns = ['full date'], values = ['hour video count'], fill_value = 'XXXXXXXXXXXX', margins = True, margins_name = 'HOUR TOTAL', aggfunc=np.sum)\n",
    "\n",
    "writer = pd.ExcelWriter('followUPvidecounts.xlsx')\n",
    "\n",
    "\n",
    " \n",
    "for school in datapivottable.index.get_level_values(0).unique():\n",
    "    temp_df = datapivottable.xs(school, level=0)\n",
    "    temp_df.to_excel(writer,school)\n",
    "    worksheet = writer.sheets[school]\n",
    "    worksheet.set_column(1, 65, 12)  \n",
    "\n",
    "    \n",
    "\n",
    "print(writer)\n",
    "writer.save()\n"
   ]
  },
  {
   "cell_type": "code",
   "execution_count": null,
   "metadata": {
    "collapsed": true
   },
   "outputs": [],
   "source": []
  }
 ],
 "metadata": {
  "kernelspec": {
   "display_name": "Python 3",
   "language": "python",
   "name": "python3"
  },
  "language_info": {
   "codemirror_mode": {
    "name": "ipython",
    "version": 2
   },
   "file_extension": ".py",
   "mimetype": "text/x-python",
   "name": "python",
   "nbconvert_exporter": "python",
   "pygments_lexer": "ipython2",
   "version": "2.7.13"
  }
 },
 "nbformat": 4,
 "nbformat_minor": 2
}
